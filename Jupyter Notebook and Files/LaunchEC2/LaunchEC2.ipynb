{
 "cells": [
  {
   "cell_type": "markdown",
   "metadata": {},
   "source": [
    "## Library Loadings"
   ]
  },
  {
   "cell_type": "code",
   "execution_count": 39,
   "metadata": {
    "collapsed": false
   },
   "outputs": [],
   "source": [
    "import boto\n",
    "from boto.manage.cmdshell import sshclient_from_instance\n",
    "import time\n",
    "import pandas as pd\n",
    "import os"
   ]
  },
  {
   "cell_type": "markdown",
   "metadata": {},
   "source": [
    "## S3 Bucket Connections"
   ]
  },
  {
   "cell_type": "code",
   "execution_count": 40,
   "metadata": {
    "collapsed": false
   },
   "outputs": [],
   "source": [
    "access = pd.read_csv('rootkey.csv', sep = '=', header = None)\n",
    "s3 = boto.connect_s3(aws_access_key_id=access.loc[0,1], \n",
    "                     aws_secret_access_key=access.loc[1,1])"
   ]
  },
  {
   "cell_type": "markdown",
   "metadata": {},
   "source": [
    "## EC2 Connection and script launch"
   ]
  },
  {
   "cell_type": "markdown",
   "metadata": {},
   "source": [
    "##### Connection to ec2"
   ]
  },
  {
   "cell_type": "code",
   "execution_count": 41,
   "metadata": {
    "collapsed": true
   },
   "outputs": [],
   "source": [
    "ec2 = boto.connect_ec2(aws_access_key_id=access.loc[0,1], \n",
    "                       aws_secret_access_key=access.loc[1,1])"
   ]
  },
  {
   "cell_type": "code",
   "execution_count": 42,
   "metadata": {
    "collapsed": false
   },
   "outputs": [],
   "source": [
    "reservations = ec2.get_all_instances()\n",
    "instance = reservations[0].instances[0]"
   ]
  },
  {
   "cell_type": "markdown",
   "metadata": {},
   "source": []
  },
  {
   "cell_type": "code",
   "execution_count": 44,
   "metadata": {
    "collapsed": false
   },
   "outputs": [],
   "source": [
    "##To do Only Once : \n",
    "\n",
    "# key_pair = ec2.create_key_pair('ec2-romain5-key')\n",
    "# key_pair.save('~/.ssh')\n",
    "# group = ec2.create_security_group('root', 'A group that allows SSH access')\n",
    "# group.authorize('tcp', 22, 22, '0.0.0.0/0') # to properly authorize ssh"
   ]
  },
  {
   "cell_type": "markdown",
   "metadata": {},
   "source": [
    "##### Run Instance"
   ]
  },
  {
   "cell_type": "code",
   "execution_count": 46,
   "metadata": {
    "collapsed": false
   },
   "outputs": [
    {
     "name": "stdout",
     "output_type": "stream",
     "text": [
      "waiting for instance\n",
      ". . . . done\n"
     ]
    }
   ],
   "source": [
    "## Running a classical Amazon t2.micro Linux Instance\n",
    "reservation = ec2.run_instances(image_id='ami-60b6c60a', \n",
    "                                key_name='ec2-romain5-key', \n",
    "                                #key_name = 'ec2-romain2-key-oldMac',\n",
    "                                instance_type = 'c3.8xlarge',\n",
    "                                #instance_type = 't2.micro',\n",
    "                                security_groups = ['root'])\n",
    "\n",
    "instance = reservation.instances[0]\n",
    "print('waiting for instance')\n",
    "while instance.state != 'running':\n",
    "    #print ('.', end = \"\")\n",
    "    print('.'),\n",
    "    time.sleep(5)\n",
    "    instance.update()\n",
    "print('done')"
   ]
  },
  {
   "cell_type": "markdown",
   "metadata": {},
   "source": [
    "##### Upload Script"
   ]
  },
  {
   "cell_type": "code",
   "execution_count": 47,
   "metadata": {
    "collapsed": true
   },
   "outputs": [],
   "source": [
    "import boto.manage.cmdshell\n",
    " \n",
    "def upload_file(instance, key, username, local_filepath, remote_filepath):\n",
    "    \"\"\"\n",
    "    Upload a file to a remote directory using SFTP. All parameters except\n",
    "    for \"instance\" are strings. The instance parameter should be a\n",
    "    boto.ec2.instance.Instance object.\n",
    " \n",
    "    instance        An EC2 instance to upload the files to.\n",
    "    key             The file path for a valid SSH key which can be used to\n",
    "                    log in to the EC2 machine.\n",
    "    username        The username to log in as.\n",
    "    local_filepath  The path to the file to upload.\n",
    "    remote_filepath The path where the file should be uploaded to.\n",
    "    \"\"\"\n",
    "    ssh_client = boto.manage.cmdshell.sshclient_from_instance(\n",
    "        instance,\n",
    "        key,\n",
    "        user_name=username\n",
    "    )\n",
    "    ssh_client.put_file(local_filepath, remote_filepath)"
   ]
  },
  {
   "cell_type": "markdown",
   "metadata": {},
   "source": [
    "##### Install.sh Transfer"
   ]
  },
  {
   "cell_type": "code",
   "execution_count": 48,
   "metadata": {
    "collapsed": false
   },
   "outputs": [],
   "source": [
    "# upload_file(instance, \n",
    "#             '/Users/romainbui/.ssh/ec2-romain5-key.pem', \n",
    "#             'ec2-user', \n",
    "#             '/Users/romainbui/Documents/Harvard/CS-181-Machine_Learning/Practicals_GIT/cs181-practicals/practical3/install.sh', 'install.sh')"
   ]
  },
  {
   "cell_type": "code",
   "execution_count": 49,
   "metadata": {
    "collapsed": false
   },
   "outputs": [],
   "source": [
    "upload_file(instance, \n",
    "            '/Users/romainbui/.ssh/ec2-romain5-key.pem', \n",
    "            'ec2-user', \n",
    "            '/Users/romainbui/Documents/Harvard/CS-181-Machine_Learning/Practicals_GIT/cs181-practicals/practical3/install2.sh', 'install2.sh')"
   ]
  },
  {
   "cell_type": "markdown",
   "metadata": {},
   "source": [
    "##### main.py Transfer"
   ]
  },
  {
   "cell_type": "code",
   "execution_count": 50,
   "metadata": {
    "collapsed": false
   },
   "outputs": [],
   "source": [
    "# upload_file(instance, \n",
    "#             '/Users/romainbui/.ssh/ec2-romain2-key.pem', \n",
    "#             'ec2-user', \n",
    "#             '/Users/romainbui/Documents/Harvard/CS-181-Machine_Learning/Practicals_GIT/cs181-practicals/practical3/main.py', 'main.py')"
   ]
  },
  {
   "cell_type": "markdown",
   "metadata": {},
   "source": [
    "##### main2.py Transfer"
   ]
  },
  {
   "cell_type": "code",
   "execution_count": 52,
   "metadata": {
    "collapsed": false
   },
   "outputs": [],
   "source": [
    "upload_file(instance, \n",
    "            '/Users/romainbui/.ssh/ec2-romain5-key.pem', \n",
    "            'ec2-user', \n",
    "            '/Users/romainbui/Documents/Harvard/CS-181-Machine_Learning/Practicals_GIT/cs181-practicals/practical3/main2.py', 'main2.py')"
   ]
  },
  {
   "cell_type": "markdown",
   "metadata": {},
   "source": [
    "##### Transfer .npy"
   ]
  },
  {
   "cell_type": "code",
   "execution_count": 26,
   "metadata": {
    "collapsed": true
   },
   "outputs": [],
   "source": [
    "upload_file(instance, \n",
    "            '/Users/romainbui/.ssh/ec2-romain5-key.pem', \n",
    "            'ec2-user', \n",
    "            '/Users/romainbui/Documents/Harvard/CS-181-Machine_Learning/Practicals_GIT/cs181-practicals/practical3/Data/EC2/support.npy', 'support.npy')"
   ]
  },
  {
   "cell_type": "code",
   "execution_count": 27,
   "metadata": {
    "collapsed": true
   },
   "outputs": [],
   "source": [
    "upload_file(instance, \n",
    "            '/Users/romainbui/.ssh/ec2-romain5-key.pem', \n",
    "            'ec2-user', \n",
    "            '/Users/romainbui/Documents/Harvard/CS-181-Machine_Learning/Practicals_GIT/cs181-practicals/practical3/Data/EC2/Nsupport.npy', 'Nsupport.npy')"
   ]
  },
  {
   "cell_type": "markdown",
   "metadata": {},
   "source": [
    "##### Transfer user_avg"
   ]
  },
  {
   "cell_type": "code",
   "execution_count": 53,
   "metadata": {
    "collapsed": true
   },
   "outputs": [],
   "source": [
    "upload_file(instance, \n",
    "            '/Users/romainbui/.ssh/ec2-romain5-key.pem', \n",
    "            'ec2-user', \n",
    "            '/Users/romainbui/Documents/Harvard/CS-181-Machine_Learning/Practicals_GIT/cs181-practicals/practical3/Data/EC2/user_avg.csv', 'user_avg.csv')"
   ]
  },
  {
   "cell_type": "markdown",
   "metadata": {},
   "source": [
    "##### Transfer Root Key"
   ]
  },
  {
   "cell_type": "code",
   "execution_count": 54,
   "metadata": {
    "collapsed": true
   },
   "outputs": [],
   "source": [
    "upload_file(instance, \n",
    "            '/Users/romainbui/.ssh/ec2-romain5-key.pem', \n",
    "            'ec2-user', \n",
    "            '/Users/romainbui/Documents/Harvard/CS-181-Machine_Learning/Practicals_GIT/cs181-practicals/practical3/rootkey.csv', 'rootkey.csv')"
   ]
  },
  {
   "cell_type": "markdown",
   "metadata": {},
   "source": [
    "## End EC2 : DO NOT FORGET"
   ]
  },
  {
   "cell_type": "code",
   "execution_count": 18,
   "metadata": {
    "collapsed": true
   },
   "outputs": [],
   "source": [
    "instance.terminate()"
   ]
  },
  {
   "cell_type": "code",
   "execution_count": null,
   "metadata": {
    "collapsed": true
   },
   "outputs": [],
   "source": []
  }
 ],
 "metadata": {
  "kernelspec": {
   "display_name": "py22",
   "language": "python",
   "name": "py22"
  },
  "language_info": {
   "codemirror_mode": {
    "name": "ipython",
    "version": 2
   },
   "file_extension": ".py",
   "mimetype": "text/x-python",
   "name": "python",
   "nbconvert_exporter": "python",
   "pygments_lexer": "ipython2",
   "version": "2.7.11"
  }
 },
 "nbformat": 4,
 "nbformat_minor": 0
}
